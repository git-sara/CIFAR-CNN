{
 "cells": [
  {
   "cell_type": "code",
   "execution_count": null,
   "id": "21bcf443",
   "metadata": {},
   "outputs": [],
   "source": [
    "import tensorflow as tf\n",
    "from tensorflow import keras\n",
    "from tensorflow.keras import layers,models\n",
    "import matplotlib.pyplot as plt\n",
    "import numpy as np\n",
    "plt.style.use('ggplot')\n",
    "\n",
    "#loading lib\n",
    "cifar = keras.datasets.cifar10\n",
    "(X_train, y_train), (X_test, y_test) = cifar.load_data()\n",
    "#preprocessing\n",
    "X_train, X_test=X_train/255.0, X_test/255.0\n",
    "\n",
    "CIFAR10_CNN=models.Sequential([\n",
    "    layers.Conv2D(10,(3,3),activation='relu',input_shape=(32,32,3) ),\n",
    "    layers.Conv2D(10,(3,3),activation='relu' ),\n",
    "    layers.BatchNormalization(),\n",
    "    layers.MaxPool2D(2),\n",
    "    layers.Conv2D(10,(3,3),activation='relu' ),\n",
    "    layers.Conv2D(10,(3,3),activation='relu' ),\n",
    "    layers.MaxPool2D(2),\n",
    "    layers.Conv2D(10,(3,3),activation='relu' ),\n",
    "    layers.Conv2D(10,(3,3),activation='relu' ),\n",
    "    layers.Flatten(),\n",
    "    layers.Dense(100, activation='relu'),\n",
    "    layers.Dropout(0.5),\n",
    "    layers.Dense(10, activation='softmax')\n",
    "    \n",
    "    \n",
    "])\n",
    "\n",
    "\n",
    "CIFAR10_CNN.compile(optimizer = 'Adam', loss='sparse_categorical_crossentropy', metrics=['accuracy'])\n",
    "n= CIFAR10_CNN.fit(X_train, y_train, batch_size=32, epochs=20, validation_data=(X_test, y_test))\n",
    "print(CIFAR10_CNN.summary())                     \n",
    "plt.plot(n.history['accuracy'], label='train accuracy')\n",
    "plt.plot(n.history['val_accuracy'], label='test accuracy')\n",
    "plt.plot(n.history['loss'], label='train loss')\n",
    "plt.plot(n.history['val_loss'], label='test loss')\n",
    "plt.xlabel('epochs')\n",
    "plt.ylabel('accuracy')\n",
    "plt.show()"
   ]
  }
 ],
 "metadata": {
  "kernelspec": {
   "display_name": "Python 3 (ipykernel)",
   "language": "python",
   "name": "python3"
  },
  "language_info": {
   "codemirror_mode": {
    "name": "ipython",
    "version": 3
   },
   "file_extension": ".py",
   "mimetype": "text/x-python",
   "name": "python",
   "nbconvert_exporter": "python",
   "pygments_lexer": "ipython3",
   "version": "3.9.7"
  }
 },
 "nbformat": 4,
 "nbformat_minor": 5
}
